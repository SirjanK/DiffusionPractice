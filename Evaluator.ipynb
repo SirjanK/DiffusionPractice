{
 "cells": [
  {
   "cell_type": "markdown",
   "id": "88251015-c63f-4e5f-861e-23f6c5feebe2",
   "metadata": {},
   "source": [
    "# Evaluator\n",
    "This notebook takes a repository of generative modules for CIFAR-10 and evaluates them on effectiveness. \n",
    "We report metrics along with displaying 10 examples for qualitative analysis. The report takes in multiple\n",
    "modules and compares them side by side."
   ]
  },
  {
   "cell_type": "code",
   "execution_count": null,
   "id": "9635381a-b87e-423f-a969-15d8e4278d1d",
   "metadata": {},
   "outputs": [],
   "source": [
    "# imports\n",
    "import os\n",
    "import numpy as np\n",
    "import matplotlib.pyplot as plt\n",
    "\n",
    "from common.data_utils import load_train_images\n",
    "from common.constants import DATA_DIR"
   ]
  },
  {
   "cell_type": "markdown",
   "id": "8a14a00a-78d6-4c6a-a6f0-6157e237cf19",
   "metadata": {},
   "source": [
    "## Real Images\n",
    "Load up 9 samples of real images from the dataset and display"
   ]
  },
  {
   "cell_type": "code",
   "execution_count": null,
   "id": "ae8e10fb-9cbb-405f-a74f-1e11f3644a56",
   "metadata": {},
   "outputs": [],
   "source": [
    "images, _ = load_train_images(DATA_DIR)\n",
    "print(f\"Total number of images: {len(images)}\")"
   ]
  },
  {
   "cell_type": "code",
   "execution_count": null,
   "id": "690eedb4",
   "metadata": {},
   "outputs": [],
   "source": [
    "def display_images(images: np.ndarray) -> None:\n",
    "    \"\"\"\n",
    "    Display 9 images in a 3x3 grid\n",
    "\n",
    "    :param images: np.ndarray whose first dim should be 9 for num images\n",
    "    \"\"\"\n",
    "\n",
    "    assert images.shape[0] == 9\n",
    "\n",
    "    # plot 9 images in a 3x3 grid\n",
    "    _, axes = plt.subplots(3, 3, figsize=(3, 3))\n",
    "    for i, ax in enumerate(axes.flat):\n",
    "        ax.imshow(images[i], cmap=\"gray\")\n",
    "        ax.axis(\"off\")\n",
    "    plt.tight_layout()\n",
    "    plt.show()"
   ]
  },
  {
   "cell_type": "code",
   "execution_count": null,
   "id": "e2b7a040-82a9-4c05-8c91-e830edd3101c",
   "metadata": {},
   "outputs": [],
   "source": [
    "def show_random_real_images(images: np.ndarray) -> None:\n",
    "    \"\"\"\n",
    "    Display 9 randomly sampled images from `images` in a 3x3 grid.\n",
    "\n",
    "    :param images: numpy array of images\n",
    "    \"\"\"\n",
    "\n",
    "    # randomly sample 9 images\n",
    "    random_images = images[np.random.choice(images.shape[0], 9, replace=False)]\n",
    "\n",
    "    display_images(random_images)\n"
   ]
  },
  {
   "cell_type": "code",
   "execution_count": null,
   "id": "35d85a04-0aa7-4ee8-86f6-bd60652eaa01",
   "metadata": {},
   "outputs": [],
   "source": [
    "show_random_real_images(images)"
   ]
  },
  {
   "cell_type": "code",
   "execution_count": null,
   "id": "35d5b1d9",
   "metadata": {},
   "outputs": [],
   "source": []
  }
 ],
 "metadata": {
  "kernelspec": {
   "display_name": ".venv",
   "language": "python",
   "name": "python3"
  },
  "language_info": {
   "codemirror_mode": {
    "name": "ipython",
    "version": 3
   },
   "file_extension": ".py",
   "mimetype": "text/x-python",
   "name": "python",
   "nbconvert_exporter": "python",
   "pygments_lexer": "ipython3",
   "version": "3.11.11"
  }
 },
 "nbformat": 4,
 "nbformat_minor": 5
}
